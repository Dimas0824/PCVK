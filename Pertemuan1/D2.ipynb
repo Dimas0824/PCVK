{
 "cells": [
  {
   "cell_type": "code",
   "execution_count": null,
   "id": "a48ccde1",
   "metadata": {},
   "outputs": [],
   "source": [
    "\n",
    "import numpy as np\n",
    "import pandas as pd\n",
    "import cv2 as cv\n",
    "from google.colab.patches import cv2_imshow  # Menampilkan gambar di Google Colab\n",
    "from skimage import io, transform\n",
    "from PIL import Image\n",
    "import matplotlib.pyplot as plt"
   ]
  },
  {
   "cell_type": "code",
   "execution_count": null,
   "id": "1cf6300e",
   "metadata": {},
   "outputs": [],
   "source": [
    "# Daftar URL gambar yang akan diproses\n",
    "urls = [\n",
    "    \"https://iiif.lib.ncsu.edu/iiif/0052574/full/800,/0/default.jpg\",\n",
    "    \"https://iiif.lib.ncsu.edu/iiif/0016007/full/800,/0/default.jpg\",\n",
    "    \"https://placekitten.com/800/571\"\n",
    "]\n",
    "\n",
    "# Loop untuk membaca, memproses, dan menampilkan setiap gambar\n",
    "for url in urls:\n",
    "    # Membaca gambar dari URL\n",
    "    image = io.imread(url)\n",
    "\n",
    "    # Mengubah ukuran gambar menjadi setengah dari ukuran aslinya\n",
    "    image_resized = cv.resize(image, (0, 0), fx=0.5, fy=0.5)\n",
    "\n",
    "    # Mengonversi warna dari BGR ke RGB\n",
    "    image_rgb = cv.cvtColor(image_resized, cv.COLOR_BGR2RGB)\n",
    "\n",
    "    # Menggabungkan gambar asli dan versi RGB secara horizontal\n",
    "    final_frame = cv.hconcat([image_resized, image_rgb])\n",
    "\n",
    "    # Menampilkan hasil gabungan gambar\n",
    "    cv2_imshow(final_frame)\n",
    "    print('\\n')"
   ]
  }
 ],
 "metadata": {
  "kernelspec": {
   "display_name": "Python 3",
   "language": "python",
   "name": "python3"
  },
  "language_info": {
   "name": "python",
   "version": "3.12.0"
  }
 },
 "nbformat": 4,
 "nbformat_minor": 5
}
